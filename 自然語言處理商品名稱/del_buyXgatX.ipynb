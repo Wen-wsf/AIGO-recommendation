{
 "cells": [
  {
   "cell_type": "code",
   "execution_count": null,
   "metadata": {},
   "outputs": [],
   "source": [
    "import pandas as pd\n",
    "import re\n",
    "df = pd.read_csv('D:\\AI\\店商推薦\\程式\\data_processing\\product_data\\ML\\進azure的資料\\\\product_word.csv')\n",
    "df.shape\n"
   ]
  },
  {
   "cell_type": "code",
   "execution_count": null,
   "metadata": {},
   "outputs": [],
   "source": [
    "import pandas as pd\n",
    "\n",
    "input_data1 = r'D:\\AI\\店商推薦\\程式\\data_processing\\product_data\\ML\\進azure的資料\\product_word.csv'\n",
    "input_df1 = pd.read_csv(input_data1)\n",
    "\n",
    "input_data2 = r'D:\\AI\\店商推薦\\程式\\data_processing\\product_data\\ML\\進azure的資料\\product_all.csv'\n",
    "input_df2 = pd.read_csv(input_data2)\n",
    "\n",
    "unique_brand_ids_in_df1 = set(input_df1['product_id'].unique())\n",
    "unique_brand_ids_in_df2 = set(input_df2['product_id'].unique())\n",
    "\n",
    "\n",
    "missing_brand_ids = unique_brand_ids_in_df1 - unique_brand_ids_in_df2\n",
    "\n",
    "missing_brand_ids_list = list(missing_brand_ids)\n",
    "\n",
    "print(\"Brand IDs in A data but not in B data:\")\n",
    "print(len(missing_brand_ids_list))\n",
    "print(missing_brand_ids_list)\n"
   ]
  },
  {
   "cell_type": "code",
   "execution_count": null,
   "metadata": {},
   "outputs": [],
   "source": [
    "def remove_exclamation(text):\n",
    "    return re.sub(r'^.*！', '', text)\n",
    "\n",
    "df['product_name'] = df['product_name'].apply(remove_exclamation)\n",
    "\n",
    "df.to_csv('D:\\AI\\店商推薦\\程式\\自然語言處理商品名稱\\data\\\\del!bewfor.csv', index=False)\n"
   ]
  },
  {
   "cell_type": "code",
   "execution_count": null,
   "metadata": {},
   "outputs": [],
   "source": [
    "print(df['product_name'].dtype)\n"
   ]
  },
  {
   "cell_type": "code",
   "execution_count": null,
   "metadata": {},
   "outputs": [],
   "source": [
    "import pandas as pd\n",
    "import re\n",
    "\n",
    "df = pd.read_csv('D:\\AI\\店商推薦\\程式\\自然語言處理商品名稱\\data\\\\del!bewfor.csv')\n",
    "\n",
    "def remove_exclamation(text):\n",
    "    match = re.search(r'\\s*!\\s*(.*?)$', text)\n",
    "    if match:\n",
    "        return match.group(1)\n",
    "    else:\n",
    "        return text\n",
    "df['product_name'] = df['product_name'].astype(str)\n",
    "df['product_name'] = df['product_name'].apply(remove_exclamation)\n",
    "\n",
    "df.to_csv('D:\\AI\\店商推薦\\程式\\自然語言處理商品名稱\\data\\\\del!bewfor_2.csv', index=False,encoding='utf-8')"
   ]
  },
  {
   "cell_type": "markdown",
   "metadata": {},
   "source": [
    "# 以上是刪除!之前文字的CODE"
   ]
  },
  {
   "cell_type": "markdown",
   "metadata": {},
   "source": [
    "# 以下是處裡單純文字刪除"
   ]
  },
  {
   "cell_type": "code",
   "execution_count": null,
   "metadata": {},
   "outputs": [],
   "source": [
    "import re\n",
    "\n",
    "\n",
    "product_name = \" 買1送1 Zephyrine 玫瑰修護露150mlx2\"\n",
    "\n",
    "\n",
    "pattern_to_remove = r'買\\d+送\\d+'\n",
    "\n",
    "\n",
    "product_name = re.sub(pattern_to_remove, \"\", product_name)\n",
    "\n",
    "\n",
    "product_name = product_name.strip()\n",
    "\n",
    "print(product_name)\n"
   ]
  },
  {
   "cell_type": "markdown",
   "metadata": {},
   "source": [
    "刪除(買X送X)"
   ]
  },
  {
   "cell_type": "code",
   "execution_count": 3,
   "metadata": {},
   "outputs": [],
   "source": [
    "import pandas as pd\n",
    "import re\n",
    "\n",
    "\n",
    "data = pd.read_csv('D:\\AI\\店商推薦\\程式\\自然語言處理商品名稱\\data\\\\del!bewfor_2.csv', encoding='utf-8')\n",
    "\n",
    "pattern_to_remove = r'(\\(|【)\\s*買\\s*二\\s*送\\s*二\\s*(\\)|】)'\n",
    "\n",
    "\n",
    "def process_product_name(product_name):\n",
    "    product_name = str(product_name)  \n",
    "    product_name = re.sub(pattern_to_remove, \"\", product_name)\n",
    "    return product_name.strip()  \n",
    "\n",
    "\n",
    "data['product_name'] = data['product_name'].apply(process_product_name)\n",
    "\n",
    "\n",
    "data.to_csv('D:\\AI\\店商推薦\\程式\\自然語言處理商品名稱\\data\\\\del!bewfor_3.csv', index=False, encoding='utf-8')\n"
   ]
  },
  {
   "cell_type": "markdown",
   "metadata": {},
   "source": [
    "刪除【買X送】"
   ]
  },
  {
   "cell_type": "code",
   "execution_count": 5,
   "metadata": {},
   "outputs": [],
   "source": [
    "import pandas as pd\n",
    "import re\n",
    "\n",
    "\n",
    "data = pd.read_csv('D:\\AI\\店商推薦\\程式\\自然語言處理商品名稱\\data\\\\del!bewfor_3.csv', encoding='utf-8')\n",
    "\n",
    "\n",
    "pattern_to_remove = r'【買\\d+送\\d+】'\n",
    "\n",
    "\n",
    "def process_description(description):\n",
    "    description = str(description)  \n",
    "    description = re.sub(pattern_to_remove, \"\", description, flags=re.IGNORECASE)\n",
    "    return description.strip()  \n",
    "\n",
    "data['product_name'] = data['product_name'].apply(process_description)\n",
    "\n",
    "\n",
    "data.to_csv('D:\\AI\\店商推薦\\程式\\自然語言處理商品名稱\\data\\\\del!bewfor_4.csv', index=False, encoding='utf-8')\n"
   ]
  },
  {
   "cell_type": "code",
   "execution_count": 7,
   "metadata": {},
   "outputs": [],
   "source": [
    "import pandas as pd\n",
    "import re\n",
    "\n",
    "\n",
    "data = pd.read_csv('D:\\AI\\店商推薦\\程式\\自然語言處理商品名稱\\data\\\\del!bewfor_4.csv', encoding='utf-8')\n",
    "\n",
    "\n",
    "pattern_to_remove = r'【买\\d+送\\d+】'\n",
    "\n",
    "\n",
    "def process_description(description):\n",
    "    description = str(description)  \n",
    "    description = re.sub(pattern_to_remove, \"\", description, flags=re.IGNORECASE)\n",
    "    return description.strip()  \n",
    "\n",
    "\n",
    "data['product_name'] = data['product_name'].apply(process_description)\n",
    "\n",
    "\n",
    "data.to_csv('D:\\AI\\店商推薦\\程式\\自然語言處理商品名稱\\data\\\\del!bewfor_5.csv', index=False, encoding='utf-8')\n"
   ]
  },
  {
   "cell_type": "code",
   "execution_count": 8,
   "metadata": {},
   "outputs": [],
   "source": [
    "import pandas as pd\n",
    "import re\n",
    "import opencc\n",
    "\n",
    "data = pd.read_csv('D:\\AI\\店商推薦\\程式\\自然語言處理商品名稱\\data\\\\del!bewfor_5.csv', encoding='utf-8')\n",
    "\n",
    "pattern_to_remove = r'買\\d+送\\d+'\n",
    "\n",
    "\n",
    "def process_product_name(product_name):\n",
    "    product_name = str(product_name)  \n",
    "    #converter = opencc.OpenCC('s2twp')\n",
    "    #product_name = converter.convert(product_name)\n",
    "    product_name = re.sub(pattern_to_remove, \"\", product_name)\n",
    "    return product_name.strip()  \n",
    "\n",
    "\n",
    "data['product_name'] = data['product_name'].apply(process_product_name)\n",
    "\n",
    "\n",
    "data.to_csv('D:\\AI\\店商推薦\\程式\\自然語言處理商品名稱\\data\\\\del!bewfor_6.csv', index=False, encoding='utf-8')\n"
   ]
  },
  {
   "cell_type": "code",
   "execution_count": 9,
   "metadata": {},
   "outputs": [],
   "source": [
    "import pandas as pd\n",
    "import re\n",
    "\n",
    "\n",
    "data = pd.read_csv('D:\\AI\\店商推薦\\程式\\自然語言處理商品名稱\\data\\\\del!bewfor_6.csv', encoding='utf-8')\n",
    "pattern_to_remove = r'买\\d+送\\d+'\n",
    "\n",
    "\n",
    "def process_product_name(product_name):\n",
    "    product_name = str(product_name)  \n",
    "    \n",
    "    product_name = re.sub(pattern_to_remove, \"\", product_name)\n",
    "    return product_name.strip()  \n",
    "\n",
    "\n",
    "data['product_name'] = data['product_name'].apply(process_product_name)\n",
    "\n",
    "\n",
    "data.to_csv('D:\\AI\\店商推薦\\程式\\自然語言處理商品名稱\\data\\\\del!bewfor_7.csv', index=False, encoding='utf-8')\n"
   ]
  },
  {
   "cell_type": "code",
   "execution_count": 14,
   "metadata": {},
   "outputs": [],
   "source": [
    "import pandas as pd\n",
    "import re\n",
    "\n",
    "data = pd.read_csv('D:\\AI\\店商推薦\\程式\\自然語言處理商品名稱\\data\\\\del!bewfor_7.csv', encoding='utf-8')\n",
    "\n",
    "pattern_to_remove = r'【?\\s*買\\d+送\\d+\\s*】?|【?\\s*买\\d+送\\d\\s*】?'\n",
    "\n",
    "# 创建一个函数来处理产品描述\n",
    "def process_description(description):\n",
    "    description = str(description)  \n",
    "    description = re.sub(pattern_to_remove, \"\", description, flags=re.IGNORECASE)\n",
    "    return description.strip()  \n",
    "\n",
    "data['product_name'] = data['product_name'].apply(process_description)\n",
    "\n",
    "\n",
    "data.to_csv('D:\\AI\\店商推薦\\程式\\自然語言處理商品名稱\\data\\\\del!bewfor_8.csv', index=False, encoding='utf-8')\n"
   ]
  },
  {
   "cell_type": "code",
   "execution_count": 15,
   "metadata": {},
   "outputs": [],
   "source": [
    "import pandas as pd\n",
    "import re\n",
    "\n",
    "data = pd.read_csv('D:\\AI\\店商推薦\\程式\\自然語言處理商品名稱\\data\\\\del!bewfor_8.csv', encoding='utf-8')\n",
    "\n",
    "\n",
    "pattern_to_remove = r'【买.*?】'\n",
    "\n",
    "def process_description(description):\n",
    "    description = str(description)  \n",
    "    description = re.sub(pattern_to_remove, \"\", description, flags=re.IGNORECASE)\n",
    "    return description.strip()  \n",
    "\n",
    "data['product_name'] = data['product_name'].apply(process_description)\n",
    "\n",
    "\n",
    "data.to_csv('D:\\AI\\店商推薦\\程式\\自然語言處理商品名稱\\data\\\\del!bewfor_9.csv', index=False, encoding='utf-8')\n"
   ]
  },
  {
   "cell_type": "markdown",
   "metadata": {},
   "source": [
    "刪除開頭【2 】結尾"
   ]
  },
  {
   "cell_type": "code",
   "execution_count": 16,
   "metadata": {},
   "outputs": [],
   "source": [
    "import pandas as pd\n",
    "import re\n",
    "\n",
    "data = pd.read_csv('D:\\AI\\店商推薦\\程式\\自然語言處理商品名稱\\data\\\\del!bewfor_9.csv', encoding='utf-8')\n",
    "\n",
    "\n",
    "pattern_to_remove = r'【2.*?】'\n",
    "\n",
    "\n",
    "def process_description(description):\n",
    "    description = str(description)  \n",
    "    description = re.sub(pattern_to_remove, \"\", description, flags=re.IGNORECASE)\n",
    "    return description.strip()  \n",
    "\n",
    "data['product_name'] = data['product_name'].apply(process_description)\n",
    "\n",
    "\n",
    "data.to_csv('D:\\AI\\店商推薦\\程式\\自然語言處理商品名稱\\data\\\\del!bewfor_10.csv', index=False, encoding='utf-8')\n"
   ]
  },
  {
   "cell_type": "code",
   "execution_count": 17,
   "metadata": {},
   "outputs": [],
   "source": [
    "import pandas as pd\n",
    "import re\n",
    "\n",
    "data = pd.read_csv('D:\\AI\\店商推薦\\程式\\自然語言處理商品名稱\\data\\\\del!bewfor_10.csv', encoding='utf-8')\n",
    "\n",
    "\n",
    "pattern_to_remove = r'【即.*?】'\n",
    "\n",
    "\n",
    "def process_description(description):\n",
    "    description = str(description)  \n",
    "    description = re.sub(pattern_to_remove, \"\", description, flags=re.IGNORECASE)\n",
    "    return description.strip()  \n",
    "\n",
    "data['product_name'] = data['product_name'].apply(process_description)\n",
    "\n",
    "\n",
    "data.to_csv('D:\\AI\\店商推薦\\程式\\自然語言處理商品名稱\\data\\\\del!bewfor_11.csv', index=False, encoding='utf-8')\n"
   ]
  },
  {
   "cell_type": "code",
   "execution_count": 18,
   "metadata": {},
   "outputs": [],
   "source": [
    "import pandas as pd\n",
    "import re\n",
    "\n",
    "data = pd.read_csv('D:\\AI\\店商推薦\\程式\\自然語言處理商品名稱\\data\\\\del!bewfor_11.csv', encoding='utf-8')\n",
    "\n",
    "pattern_to_remove = r'【限.*?】'\n",
    "\n",
    "def process_description(description):\n",
    "    description = str(description)  \n",
    "    description = re.sub(pattern_to_remove, \"\", description, flags=re.IGNORECASE)\n",
    "    return description.strip()  \n",
    "\n",
    "# 在description列上应用正则表达式处理\n",
    "data['product_name'] = data['product_name'].apply(process_description)\n",
    "\n",
    "\n",
    "data.to_csv('D:\\AI\\店商推薦\\程式\\自然語言處理商品名稱\\data\\\\del!bewfor_12.csv', index=False, encoding='utf-8')\n"
   ]
  },
  {
   "cell_type": "code",
   "execution_count": 22,
   "metadata": {},
   "outputs": [],
   "source": [
    "import pandas as pd\n",
    "import re\n",
    "\n",
    "data = pd.read_csv('D:\\AI\\店商推薦\\程式\\自然語言處理商品名稱\\data\\\\del!bewfor_12.csv', encoding='utf-8')\n",
    "\n",
    "pattern_to_remove = r'【直.*?】'\n",
    "\n",
    "\n",
    "def process_description(description):\n",
    "    description = str(description) \n",
    "    description = re.sub(pattern_to_remove, \"\", description, flags=re.IGNORECASE)\n",
    "    return description.strip()  \n",
    "\n",
    "\n",
    "data['product_name'] = data['product_name'].apply(process_description)\n",
    "\n",
    "\n",
    "data.to_csv('D:\\AI\\店商推薦\\程式\\自然語言處理商品名稱\\data\\\\del!bewfor_13.csv', index=False, encoding='utf-8')\n"
   ]
  },
  {
   "cell_type": "code",
   "execution_count": 31,
   "metadata": {},
   "outputs": [],
   "source": [
    "import pandas as pd\n",
    "import re\n",
    "\n",
    "data = pd.read_csv('D:\\AI\\店商推薦\\程式\\自然語言處理商品名稱\\data\\\\del!bewfor_13.csv', encoding='utf-8')\n",
    "\n",
    "pattern_to_remove = r'【一|1.*?】'\n",
    "\n",
    "\n",
    "def process_description(description):\n",
    "    description = str(description)  \n",
    "    description = re.sub(pattern_to_remove, \"\", description, flags=re.IGNORECASE)\n",
    "    return description.strip() \n",
    "\n",
    "data['product_name'] = data['product_name'].apply(process_description)\n",
    "\n",
    "data.to_csv('D:\\AI\\店商推薦\\程式\\自然語言處理商品名稱\\data\\\\del!bewfor_14.csv', index=False, encoding='utf-8')"
   ]
  },
  {
   "cell_type": "code",
   "execution_count": 5,
   "metadata": {},
   "outputs": [],
   "source": [
    "import pandas as pd\n",
    "\n",
    "data = pd.read_csv('D:\\AI\\店商推薦\\程式\\自然語言處理商品名稱\\data\\\\del!bewfor_15.csv', encoding='utf-8')\n",
    "\n",
    "data['product_name'] = data['product_name'].fillna('')\n",
    "\n",
    "target_words = ['即期良品 限时⬇', '加價購', '第二件半價','直播抽獎禮','買一送一','即期良品']\n",
    "\n",
    "filter_condition = data['product_name'].apply(lambda name: not any(word in name for word in target_words))\n",
    "\n",
    "filtered_data = data[filter_condition]\n",
    "\n",
    "filtered_data.to_csv('D:\\AI\\店商推薦\\程式\\自然語言處理商品名稱\\data\\\\del!bewfor_16.csv', index=False, encoding='utf-8')\n"
   ]
  },
  {
   "cell_type": "code",
   "execution_count": 8,
   "metadata": {},
   "outputs": [
    {
     "name": "stdout",
     "output_type": "stream",
     "text": [
      "已將不包含'限量'的資料儲存為 non_limited_products.csv\n"
     ]
    }
   ],
   "source": [
    "import pandas as pd\n",
    "product_df = pd.read_csv('D:\\AI\\店商推薦\\程式\\自然語言處理商品名稱\\data\\\\del!bewfor_16.csv')\n",
    "product_df['product_name'] = product_df['product_name'].astype(str)\n",
    "non_limited_products = product_df[~product_df['product_name'].str.contains('直播抽獎禮')]\n",
    "\n",
    "non_limited_products.to_csv('D:\\AI\\店商推薦\\程式\\自然語言處理商品名稱\\data\\\\del!bewfor_17.csv', index=False)\n",
    "print(\"已將不包含'限量'的資料儲存為 non_limited_products.csv\")"
   ]
  },
  {
   "cell_type": "code",
   "execution_count": 13,
   "metadata": {},
   "outputs": [],
   "source": [
    "import pandas as pd\n",
    "import re\n",
    "\n",
    "data = pd.read_csv('D:\\AI\\店商推薦\\程式\\自然語言處理商品名稱\\data\\\\del!bewfor_17.csv', encoding='utf-8')\n",
    "\n",
    "pattern_to_remove = r'【出|【4|【防|【超|【買|【新.*?】'\n",
    "\n",
    "\n",
    "def process_description(description):\n",
    "    description = str(description)  \n",
    "    description = re.sub(pattern_to_remove, \"\", description, flags=re.IGNORECASE)\n",
    "    return description.strip() \n",
    "\n",
    "data['product_name'] = data['product_name'].apply(process_description)\n",
    "\n",
    "data.to_csv('D:\\AI\\店商推薦\\程式\\自然語言處理商品名稱\\data\\\\del!bewfor_18.csv', index=False, encoding='utf-8')"
   ]
  },
  {
   "cell_type": "code",
   "execution_count": 14,
   "metadata": {},
   "outputs": [],
   "source": [
    "import pandas as pd\n",
    "import re\n",
    "\n",
    "data = pd.read_csv('D:\\AI\\店商推薦\\程式\\自然語言處理商品名稱\\data\\\\del!bewfor_18.csv', encoding='utf-8')\n",
    "\n",
    "pattern_to_remove = r'限.*?組'\n",
    "\n",
    "\n",
    "def process_description(description):\n",
    "    description = str(description)  \n",
    "    description = re.sub(pattern_to_remove, \"\", description, flags=re.IGNORECASE)\n",
    "    return description.strip() \n",
    "\n",
    "data['product_name'] = data['product_name'].apply(process_description)\n",
    "\n",
    "data.to_csv('D:\\AI\\店商推薦\\程式\\自然語言處理商品名稱\\data\\\\del!bewfor_19.csv', index=False, encoding='utf-8')"
   ]
  },
  {
   "cell_type": "code",
   "execution_count": 18,
   "metadata": {},
   "outputs": [],
   "source": [
    "import pandas as pd\n",
    "import re\n",
    "\n",
    "data = pd.read_csv('D:\\AI\\店商推薦\\程式\\自然語言處理商品名稱\\data\\\\del!bewfor_19.csv', encoding='utf-8')\n",
    "\n",
    "pattern_to_remove = r'1|2|3|4|5|6|7|8|9.*?F'\n",
    "\n",
    "\n",
    "def process_description(description):\n",
    "    description = str(description)  \n",
    "    description = re.sub(pattern_to_remove, \"\", description, flags=re.IGNORECASE)\n",
    "    return description.strip() \n",
    "\n",
    "data['product_name'] = data['product_name'].apply(process_description)\n",
    "\n",
    "data.to_csv('D:\\AI\\店商推薦\\程式\\自然語言處理商品名稱\\data\\\\del!bewfor_20.csv', index=False, encoding='utf-8')"
   ]
  },
  {
   "cell_type": "code",
   "execution_count": 19,
   "metadata": {},
   "outputs": [],
   "source": [
    "import pandas as pd\n",
    "import re\n",
    "\n",
    "data = pd.read_csv('D:\\AI\\店商推薦\\程式\\自然語言處理商品名稱\\data\\\\del!bewfor_20.csv', encoding='utf-8')\n",
    "\n",
    "pattern_to_remove = r'买.*?一|二|三|四'\n",
    "\n",
    "\n",
    "def process_description(description):\n",
    "    description = str(description)  \n",
    "    description = re.sub(pattern_to_remove, \"\", description, flags=re.IGNORECASE)\n",
    "    return description.strip() \n",
    "\n",
    "data['product_name'] = data['product_name'].apply(process_description)\n",
    "\n",
    "data.to_csv('D:\\AI\\店商推薦\\程式\\自然語言處理商品名稱\\data\\\\del!bewfor_21.csv', index=False, encoding='utf-8')"
   ]
  },
  {
   "cell_type": "code",
   "execution_count": 2,
   "metadata": {},
   "outputs": [],
   "source": [
    "import pandas as pd\n",
    "product_df = pd.read_csv('D:\\AI\\店商推薦\\程式\\自然語言處理商品名稱\\data\\\\del!bewfor_21.csv')\n",
    "product_df['product_name'] = product_df['product_name'].astype(str)\n",
    "non_limited_products = product_df[~product_df['product_name'].str.contains('Flash Sale')]\n",
    "\n",
    "non_limited_products.to_csv('D:\\AI\\店商推薦\\程式\\自然語言處理商品名稱\\data\\\\del!bewfor_22.csv', index=False)"
   ]
  },
  {
   "cell_type": "code",
   "execution_count": 3,
   "metadata": {},
   "outputs": [],
   "source": [
    "import pandas as pd\n",
    "product_df = pd.read_csv('D:\\AI\\店商推薦\\程式\\自然語言處理商品名稱\\data\\\\del!bewfor_22.csv')\n",
    "product_df['product_name'] = product_df['product_name'].astype(str)\n",
    "non_limited_products = product_df[~product_df['product_name'].str.contains('限时')]\n",
    "\n",
    "non_limited_products.to_csv('D:\\AI\\店商推薦\\程式\\自然語言處理商品名稱\\data\\\\del!bewfor_23.csv', index=False)"
   ]
  },
  {
   "cell_type": "code",
   "execution_count": 4,
   "metadata": {},
   "outputs": [],
   "source": [
    "import pandas as pd\n",
    "product_df = pd.read_csv('D:\\AI\\店商推薦\\程式\\自然語言處理商品名稱\\data\\\\del!bewfor_23.csv')\n",
    "product_df['product_name'] = product_df['product_name'].astype(str)\n",
    "non_limited_products = product_df[~product_df['product_name'].str.contains('Flash Deals')]\n",
    "\n",
    "non_limited_products.to_csv('D:\\AI\\店商推薦\\程式\\自然語言處理商品名稱\\data\\\\del!bewfor_24.csv', index=False)"
   ]
  },
  {
   "cell_type": "code",
   "execution_count": 11,
   "metadata": {},
   "outputs": [
    {
     "name": "stderr",
     "output_type": "stream",
     "text": [
      "C:\\Users\\USER.DESKTOP-VD0I7H9\\AppData\\Local\\Temp\\ipykernel_3832\\2792993201.py:26: FutureWarning: The default value of regex will change from True to False in a future version.\n",
      "  product_df['product_name'] = product_df['product_name'].str.replace(keyword, '')\n"
     ]
    }
   ],
   "source": [
    "import pandas as pd\n",
    "\n",
    "# 1. 讀取CSV檔\n",
    "product_df = pd.read_csv('D:\\AI\\店商推薦\\程式\\自然語言處理商品名稱\\data\\\\del!bewfor_24.csv')\n",
    "product_df['product_name'] = product_df['product_name'].astype(str)\n",
    "\n",
    "# 2. 建立一個存放所有想要刪除的文字的串列\n",
    "remove_keywords = [\n",
    "    '買大送小',\n",
    "    \"Women's Day限定\",\n",
    "    'RM. Daily Deals',\n",
    "    \"Women's Day\",\n",
    "    \"Sale\",\n",
    "    \"sale\",\n",
    "    \"限時快閃\",\n",
    "    \"PWP\",\n",
    "    \"情人節Sales\",\n",
    "    \"盒加碼贈\",\n",
    "    \"入加碼贈\",\n",
    "    \"情人節限定\",\n",
    "    \"情人節\"\n",
    "]\n",
    "\n",
    "# 3. 迭代串列中的每一個文字，替換成空字符\n",
    "for keyword in remove_keywords:\n",
    "    product_df['product_name'] = product_df['product_name'].str.replace(keyword, '')\n",
    "\n",
    "# 4. 儲存結果到新的CSV檔\n",
    "product_df.to_csv('D:\\AI\\店商推薦\\程式\\自然語言處理商品名稱\\data\\\\del!bewfor_25.csv', index=False)\n"
   ]
  },
  {
   "cell_type": "code",
   "execution_count": 24,
   "metadata": {},
   "outputs": [
    {
     "name": "stderr",
     "output_type": "stream",
     "text": [
      "C:\\Users\\USER.DESKTOP-VD0I7H9\\AppData\\Local\\Temp\\ipykernel_3832\\1130320120.py:29: FutureWarning: The default value of regex will change from True to False in a future version.\n",
      "  product_df['product_name'] = product_df['product_name'].str.replace(keyword, '')\n"
     ]
    }
   ],
   "source": [
    "import pandas as pd\n",
    "\n",
    "# 1. 讀取CSV檔\n",
    "product_df = pd.read_csv('D:\\AI\\店商推薦\\程式\\自然語言處理商品名稱\\data\\\\del!bewfor_26.csv')\n",
    "product_df['product_name'] = product_df['product_name'].astype(str)\n",
    "\n",
    "# 2. 建立一個存放所有想要刪除的文字的串列\n",
    "remove_keywords = [\n",
    "    '现时特杀%OFF','%OFF',\n",
    "    \"(贈品)\",\n",
    "    '個月份量】',\n",
    "    \"0/0\",\n",
    "    \"【宠爱回馈】\",\n",
    "    \"【随肌所欲】\",\n",
    "    \"Double Doctor\",\n",
    "    \"【驅蟲黃金組合】\",\n",
    "    \"【髒污殺手】\",\n",
    "    \"（限購）\",\n",
    "    \"優惠組\",'超值特惠','年中特惠','囤貨必備','周末快閃','限時下殺','即期品優惠'\n",
    "    \"送礼最佳首选\",\n",
    "    \"新客美顏體驗組\",\n",
    "    '任选盒再送盒绿酵素','經典洗顏組','【盒组】','【】','任選入組','母親節溫馨獻禮快閃','國慶日同歡慶','國慶日'\n",
    "    ,'領券再折','限定','買多送多' , '再送','超值入組','最後0組下殺','入組','領卷再折','老闆團購｜','老闆團購','｜'\n",
    "    ,'限時特惠','限時','盒組','Free Shipping！','!','最後庫存','裡外兼顧組','超值囤貨','超值洗護組','超值','囤貨',\n",
    "    '超值組','落髮救星','升級版','入門體驗特惠組','入門體驗','體驗組','直播','直播加碼贈','下殺','限量','買就送'\n",
    "    ,'特惠','搶購','囤貨','必備','快閃','防疫必備養生品','即期品','下殺','週年慶','父亲节','父親節','即期品優惠'\n",
    "]\n",
    "\n",
    "# 3. 迭代串列中的每一個文字，替換成空字符\n",
    "for keyword in remove_keywords:\n",
    "    product_df['product_name'] = product_df['product_name'].str.replace(keyword, '')\n",
    "\n",
    "# 4. 儲存結果到新的CSV檔\n",
    "product_df.to_csv('D:\\AI\\店商推薦\\程式\\自然語言處理商品名稱\\data\\\\del!bewfor_27.csv', index=False)\n"
   ]
  },
  {
   "cell_type": "code",
   "execution_count": 27,
   "metadata": {},
   "outputs": [],
   "source": [
    "import pandas as pd\n",
    "\n",
    "# 1. 讀取CSV檔\n",
    "product_df = pd.read_csv('D:\\AI\\店商推薦\\程式\\自然語言處理商品名稱\\data\\\\del!bewfor_27.csv')\n",
    "product_df['product_name'] = product_df['product_name'].astype(str)\n",
    "\n",
    "# 2. 建立一個存放所有想要刪除的文字的串列\n",
    "remove_keywords = [\n",
    "    '優惠',\n",
    "    \"新春\",\n",
    "    '新春價',\n",
    "    \"第件0%\",\n",
    "    \"過年市集\",\n",
    "    \"新春限定\",\n",
    "    '新春加碼贈'\n",
    "    \"加碼贈\",\n",
    "    \"新春\",'RM0',\n",
    "    '團購優惠瓶入','加RM0多盒','價值','年貨大街s日本旅行必','年貨大街','初七人日快樂','購物節','初五事事如意','初甜甜蜜蜜',\n",
    "    '初幸福美滿','初桃花運','加碼送'\n",
    "    ,'加RM0多件','加多件'\n",
    "    \n",
    "]\n",
    "\n",
    "# 3. 迭代串列中的每一個文字，替換成空字符\n",
    "for keyword in remove_keywords:\n",
    "    product_df['product_name'] = product_df['product_name'].str.replace(keyword, '')\n",
    "\n",
    "# 4. 儲存結果到新的CSV檔\n",
    "product_df.to_csv('D:\\AI\\店商推薦\\程式\\自然語言處理商品名稱\\data\\\\del!bewfor_final.csv', index=False,encoding='utf-8-sig')\n"
   ]
  },
  {
   "cell_type": "markdown",
   "metadata": {},
   "source": [
    "以下程式碼是把清理好的商品名根據廠牌排序"
   ]
  },
  {
   "cell_type": "code",
   "execution_count": 20,
   "metadata": {},
   "outputs": [],
   "source": [
    "import pandas as pd\n",
    "\n",
    "df = pd.read_csv('D:\\AI\\店商推薦\\程式\\自然語言處理商品名稱\\data\\\\del!bewfor_21.csv')\n",
    "\n",
    "df_sorted = df.sort_values(by='brand_name')\n",
    "\n",
    "df_sorted.to_csv('D:\\AI\\店商推薦\\程式\\自然語言處理商品名稱\\data\\\\sort_brand.csv', index=False)\n"
   ]
  },
  {
   "cell_type": "code",
   "execution_count": 38,
   "metadata": {},
   "outputs": [],
   "source": [
    "import pandas as pd\n",
    "\n",
    "data = pd.read_csv('D:\\AI\\店商推薦\\程式\\自然語言處理商品名稱\\data\\\\del!bewfor_16.csv', encoding='utf-8')\n",
    "\n",
    "data['product_name'] = data['brand_name'] + ' ' + data['product_name']\n",
    "\n",
    "data.to_csv('D:\\AI\\店商推薦\\程式\\自然語言處理商品名稱\\data\\\\merge.csv', index=False, encoding='utf-8',encoding='utf-8-sig')\n"
   ]
  },
  {
   "cell_type": "markdown",
   "metadata": {},
   "source": [
    "把CSV轉乘EXCEL打開"
   ]
  },
  {
   "cell_type": "code",
   "execution_count": 32,
   "metadata": {},
   "outputs": [
    {
     "name": "stderr",
     "output_type": "stream",
     "text": [
      "d:\\Anaconda\\envs\\tf2_torch\\lib\\site-packages\\pandas\\util\\_decorators.py:211: FutureWarning: the 'encoding' keyword is deprecated and will be removed in a future version. Please take steps to stop the use of 'encoding'\n",
      "  return func(*args, **kwargs)\n",
      "Exception ignored in: <function ZipFile.__del__ at 0x0000028FD647E160>\n",
      "Traceback (most recent call last):\n",
      "  File \"d:\\Anaconda\\envs\\tf2_torch\\lib\\zipfile.py\", line 1816, in __del__\n",
      "    self.close()\n",
      "  File \"d:\\Anaconda\\envs\\tf2_torch\\lib\\zipfile.py\", line 1833, in close\n",
      "    self.fp.seek(self.start_dir)\n",
      "ValueError: seek of closed file\n"
     ]
    }
   ],
   "source": [
    "data = pd.read_csv('D:\\AI\\店商推薦\\程式\\自然語言處理商品名稱\\data\\\\del!bewfor_14.csv', encoding='utf-8')\n",
    "data.to_excel('D:\\AI\\店商推薦\\程式\\自然語言處理商品名稱\\data\\\\del!bewfor_15.xlsx', index=False, encoding='utf-8',encoding='utf-8-sig')"
   ]
  },
  {
   "cell_type": "markdown",
   "metadata": {},
   "source": [
    "# 以下是用CC處理簡體字但會有沒被刪除的"
   ]
  },
  {
   "cell_type": "code",
   "execution_count": null,
   "metadata": {},
   "outputs": [],
   "source": [
    "import pandas as pd\n",
    "import re\n",
    "import opencc\n",
    "\n",
    "data = pd.read_csv('D:\\AI\\店商推薦\\程式\\自然語言處理商品名稱\\data\\\\del!bewfor_2.csv', encoding='utf-8')\n",
    "# 正则表达式模式，用于匹配 \"買1送1\" 格式\n",
    "pattern_to_remove = r'買\\d+送\\d+'\n",
    "\n",
    "\n",
    "def process_product_name(product_name):\n",
    "    product_name = str(product_name)  \n",
    "    converter = opencc.OpenCC('s2twp')\n",
    "    product_name = converter.convert(product_name)\n",
    "    product_name = re.sub(pattern_to_remove, \"\", product_name)\n",
    "    return product_name.strip()  \n",
    "\n",
    "data['product_name'] = data['product_name'].apply(process_product_name)\n",
    "\n",
    "data.to_csv('D:\\AI\\店商推薦\\程式\\自然語言處理商品名稱\\data\\\\del!bewfor_test.csv', index=False,encoding='utf-8-sig')"
   ]
  },
  {
   "cell_type": "markdown",
   "metadata": {},
   "source": [
    "# 他一直說這個是 或是那個 "
   ]
  },
  {
   "cell_type": "markdown",
   "metadata": {},
   "source": [
    "還要處理的文字\n",
    "\n",
    "端午节限定\n",
    "\n",
    "即期良品\n",
    "\n",
    "即期良品 限时⬇\n",
    "\n",
    "买就送\n",
    "\n",
    "单盒下杀\n",
    "\n",
    "【12月限量】\n",
    "\n",
    "聖誕、跨年慶\n",
    "\n",
    "MEMBERS DAY\n",
    "\n",
    "【Xmas限定】\n",
    "\n",
    "【肌礎保養⨉】\n",
    "\n",
    "12.12 Flash Sale \n",
    "\n",
    "【20221130】直播抽奖礼 抽奖 抽3位 LA CODERS 119螺旋藻头皮救急调理喷雾 50ml\n",
    "\n",
    "12.12 特選 Angel LaLa 挺固關 精純檸檬酸鈣+D3 60粒/瓶\n",
    "\n",
    "【晚安推推 · Boo Niu 啵妞】\n",
    "\n",
    "12.12\n",
    "\n",
    "【两件20%】\n",
    "\n",
    "【2 Pcs 20%】\n",
    "\n",
    "【折RM80加送explus 体验包】\n",
    "\n",
    "加價購\n",
    "\n",
    "第二件半價\n",
    "\n",
    "【即期良品搶購】\n",
    "\n",
    "【限时RM77】\n",
    "\n",
    "【直播抽獎】\n",
    "\n",
    "【单盒下杀】\n",
    "\n",
    "\n",
    "\n",
    "![Alt text](image.png)"
   ]
  },
  {
   "cell_type": "markdown",
   "metadata": {},
   "source": [
    "# fuzzywuzzy模糊匹配工具相似度計算"
   ]
  },
  {
   "cell_type": "code",
   "execution_count": 28,
   "metadata": {},
   "outputs": [
    {
     "name": "stderr",
     "output_type": "stream",
     "text": [
      "WARNING:root:Applied processor reduces input query to empty string, all comparisons will have score 0. [Query: ')']\n",
      "WARNING:root:Applied processor reduces input query to empty string, all comparisons will have score 0. [Query: '】']\n",
      "WARNING:root:Applied processor reduces input query to empty string, all comparisons will have score 0. [Query: '】']\n",
      "WARNING:root:Applied processor reduces input query to empty string, all comparisons will have score 0. [Query: '】']\n",
      "WARNING:root:Applied processor reduces input query to empty string, all comparisons will have score 0. [Query: '】']\n",
      "WARNING:root:Applied processor reduces input query to empty string, all comparisons will have score 0. [Query: '】']\n",
      "WARNING:root:Applied processor reduces input query to empty string, all comparisons will have score 0. [Query: '】']\n",
      "WARNING:root:Applied processor reduces input query to empty string, all comparisons will have score 0. [Query: '【']\n",
      "WARNING:root:Applied processor reduces input query to empty string, all comparisons will have score 0. [Query: '【']\n",
      "WARNING:root:Applied processor reduces input query to empty string, all comparisons will have score 0. [Query: '×']\n",
      "WARNING:root:Applied processor reduces input query to empty string, all comparisons will have score 0. [Query: '×']\n"
     ]
    }
   ],
   "source": [
    "import pandas as pd\n",
    "from fuzzywuzzy import process\n",
    "\n",
    "def find_similar_product_names(group):\n",
    "    similar_pairs = []\n",
    "    for idx, row in group.iterrows():\n",
    "        product_name1 = row['product_name']\n",
    "        product_id1 = row['product_id']\n",
    "        \n",
    "        matches = process.extract(product_name1, group['product_name'].tolist(), limit=2)\n",
    "        for match in matches:\n",
    "            if match[1] > 92 and match[0] != product_name1:\n",
    "                matching_row = group[group['product_name'] == match[0]].iloc[0]\n",
    "                product_name2 = matching_row['product_name']\n",
    "                product_id2 = matching_row['product_id']\n",
    "                similar_pairs.append((product_id1, product_name1, product_id2, product_name2, match[1]))\n",
    "\n",
    "    return similar_pairs\n",
    "\n",
    "# 讀取CSV文件\n",
    "data_path = \"D:\\AI\\店商推薦\\程式\\自然語言處理商品名稱\\data\\del!bewfor_final.csv\"\n",
    "df = pd.read_csv(data_path)\n",
    "\n",
    "# 刪除具有空商品名稱的列\n",
    "df = df.dropna(subset=['product_name'])\n",
    "\n",
    "all_similar_pairs = []\n",
    "\n",
    "# 根據brand_name分組\n",
    "grouped = df.groupby('brand_name')\n",
    "\n",
    "# 對每一組進行模糊匹配\n",
    "for brand, group in grouped:\n",
    "    similar_pairs = find_similar_product_names(group)\n",
    "    all_similar_pairs.extend(similar_pairs)\n",
    "\n",
    "# 創建新的DataFrame並保存到CSV\n",
    "new_df = pd.DataFrame(all_similar_pairs, columns=['product_id1', 'product_name1', 'product_id2', 'product_name2', 'similar'])\n",
    "new_df.to_csv(\"D:\\\\AI\\\\店商推薦\\\\程式\\\\自然語言處理商品名稱\\\\data\\\\similar_products2.csv\", index=False,encoding='utf-8-sig')\n"
   ]
  },
  {
   "cell_type": "markdown",
   "metadata": {},
   "source": [
    "# 分群"
   ]
  },
  {
   "cell_type": "code",
   "execution_count": 32,
   "metadata": {},
   "outputs": [
    {
     "name": "stderr",
     "output_type": "stream",
     "text": [
      "WARNING:root:Applied processor reduces input query to empty string, all comparisons will have score 0. [Query: '】']\n",
      "WARNING:root:Applied processor reduces input query to empty string, all comparisons will have score 0. [Query: '】']\n",
      "WARNING:root:Applied processor reduces input query to empty string, all comparisons will have score 0. [Query: '】']\n",
      "WARNING:root:Applied processor reduces input query to empty string, all comparisons will have score 0. [Query: '】']\n",
      "WARNING:root:Applied processor reduces input query to empty string, all comparisons will have score 0. [Query: '】']\n",
      "WARNING:root:Applied processor reduces input query to empty string, all comparisons will have score 0. [Query: '】']\n",
      "WARNING:root:Applied processor reduces input query to empty string, all comparisons will have score 0. [Query: '×']\n",
      "WARNING:root:Applied processor reduces input query to empty string, all comparisons will have score 0. [Query: '×']\n",
      "WARNING:root:Applied processor reduces input query to empty string, all comparisons will have score 0. [Query: ')']\n",
      "WARNING:root:Applied processor reduces input query to empty string, all comparisons will have score 0. [Query: '【']\n",
      "WARNING:root:Applied processor reduces input query to empty string, all comparisons will have score 0. [Query: '【']\n"
     ]
    }
   ],
   "source": [
    "import pandas as pd\n",
    "from fuzzywuzzy import process\n",
    "\n",
    "def find_similar_product_names(group, target_product_name):\n",
    "    similar_pairs = []\n",
    "    target_row = group[group['product_name'] == target_product_name]\n",
    "    \n",
    "    if target_row.empty:\n",
    "        return similar_pairs\n",
    "\n",
    "    target_product_id = target_row.iloc[0]['product_id']\n",
    "\n",
    "    matches = process.extract(target_product_name, group['product_name'].tolist(), limit=100)\n",
    "    for match in matches:\n",
    "        if match[1] > 92 and match[0] != target_product_name:\n",
    "            matched_group = group[group['product_name'] == match[0]]\n",
    "            if not matched_group.empty:\n",
    "                matching_row = matched_group.iloc[0]\n",
    "                product_name2 = matching_row['product_name']\n",
    "                product_id2 = matching_row['product_id']\n",
    "                similar_pairs.append((target_product_id, target_product_name, product_id2, product_name2, match[1]))\n",
    "\n",
    "    return similar_pairs\n",
    "\n",
    "def cluster_products(df, threshold=92):\n",
    "    clusters = {}\n",
    "    product_to_cluster = {}\n",
    "\n",
    "    for index, row in df.iterrows():\n",
    "        product_name = row['product_name']\n",
    "        product_id = row['product_id']\n",
    "\n",
    "        if product_id in product_to_cluster:\n",
    "            continue\n",
    "\n",
    "        similar_products = find_similar_product_names(df[df['brand_name'] == row['brand_name']], product_name)\n",
    "        \n",
    "        if similar_products:\n",
    "            cluster_id = product_id  # Use this product's ID as the cluster ID\n",
    "            for similar_product in similar_products:\n",
    "                product_to_cluster[similar_product[2]] = cluster_id\n",
    "            clusters[cluster_id] = [product_id] + [prod[2] for prod in similar_products]\n",
    "        else:\n",
    "            clusters[product_id] = [product_id]\n",
    "\n",
    "    return clusters, product_to_cluster\n",
    "\n",
    "# Reading and processing the data\n",
    "data_path = \"D:\\AI\\店商推薦\\程式\\自然語言處理商品名稱\\data\\del!bewfor_final.csv\"\n",
    "df = pd.read_csv(data_path)\n",
    "df = df.dropna(subset=['product_name'])\n",
    "clusters, product_to_cluster = cluster_products(df)\n",
    "# Convert the clusters into a DataFrame for saving\n",
    "cluster_data = []\n",
    "for cluster_id, product_ids in clusters.items():\n",
    "    for product_id in product_ids:\n",
    "        cluster_data.append((product_id, cluster_id))\n",
    "cluster_df = pd.DataFrame(cluster_data, columns=['product_id', 'cluster_id'])\n",
    "\n",
    "# Save the clusters to a CSV file\n",
    "cluster_df.to_csv(\"D:\\\\AI\\\\店商推薦\\\\程式\\\\自然語言處理商品名稱\\\\data\\\\product_clusters.csv\", index=False, encoding='utf-8-sig')\n",
    "\n",
    "# This dictionary now contains products clustered together based on similarity.\n",
    "# You can now process these clusters to merge sales data, assign common IDs, etc.\n"
   ]
  },
  {
   "cell_type": "code",
   "execution_count": 13,
   "metadata": {},
   "outputs": [],
   "source": [
    "import pandas as pd\n",
    "\n",
    "# 讀取 product_cluster.csv\n",
    "cluster_df = pd.read_csv(\"D:\\\\AI\\\\店商推薦\\\\程式\\\\自然語言處理商品名稱\\\\data\\\\product_clusters.csv\")\n",
    "\n",
    "# 刪除重複的 product_id，只保留第一次出現的\n",
    "cluster_df.drop_duplicates(subset='product_id', keep='first', inplace=True)\n",
    "\n",
    "# 儲存修正後的檔案\n",
    "cluster_df.to_csv(\"D:\\\\AI\\\\店商推薦\\\\程式\\\\自然語言處理商品名稱\\\\data\\\\product_cluster_cleaned.csv\", index=False)\n"
   ]
  },
  {
   "cell_type": "code",
   "execution_count": 14,
   "metadata": {},
   "outputs": [
    {
     "name": "stdout",
     "output_type": "stream",
     "text": [
      "37063\n"
     ]
    }
   ],
   "source": [
    "import pandas as pd\n",
    "data_path = \"D:\\\\AI\\\\店商推薦\\\\程式\\\\自然語言處理商品名稱\\\\data\\\\product_cluster_cleaned.csv\"\n",
    "cluster_df = pd.read_csv(data_path)\n",
    "unique_clusters = cluster_df['cluster_id'].nunique()\n",
    "print(unique_clusters)\n"
   ]
  },
  {
   "cell_type": "markdown",
   "metadata": {},
   "source": [
    "合併到product_all.csv中"
   ]
  },
  {
   "cell_type": "code",
   "execution_count": 17,
   "metadata": {},
   "outputs": [],
   "source": [
    "import pandas as pd\n",
    "\n",
    "# 讀取你的原始 product_all.csv 和 cluster_df\n",
    "product_all_df = pd.read_csv(\"D:\\AI\\店商推薦\\程式\\data_processing\\product_data\\ML\\進azure的資料\\\\product_all.csv\")\n",
    "# 假設你已經有了 cluster_df\n",
    "cluster_df = pd.read_csv(\"D:\\\\AI\\\\店商推薦\\\\程式\\\\自然語言處理商品名稱\\\\data\\\\product_cluster_cleaned.csv\")\n",
    "\n",
    "# 使用 product_id 欄位將 cluster_df 與 product_all_df 合併\n",
    "merged_df = pd.merge(product_all_df, cluster_df[['product_id', 'cluster_id']], on='product_id', how='left')\n",
    "\n",
    "# 如果某些 product_id 在 cluster_df 中不存在，那它們的 cluster_id 會是 NaN。以下程式碼會用 product_id 填充 NaN 的 cluster_id\n",
    "merged_df['cluster_id'].fillna(merged_df['product_id'], inplace=True)\n",
    "\n",
    "# 將合併後的資料保存到新的CSV檔案\n",
    "merged_df.to_csv(\"D:\\\\AI\\\\店商推薦\\\\程式\\\\自然語言處理商品名稱\\\\data\\\\product_all_with_clusters.csv\", index=False, encoding='utf-8-sig')\n"
   ]
  },
  {
   "cell_type": "markdown",
   "metadata": {},
   "source": [
    "刪除重複的product_id"
   ]
  },
  {
   "cell_type": "code",
   "execution_count": 20,
   "metadata": {},
   "outputs": [
    {
     "name": "stdout",
     "output_type": "stream",
     "text": [
      "3727\n"
     ]
    }
   ],
   "source": [
    "import pandas as pd\n",
    "\n",
    "# 讀取 product_cluster_cleaned.csv\n",
    "cluster_df = pd.read_csv(\"D:\\\\AI\\\\店商推薦\\\\程式\\\\自然語言處理商品名稱\\\\data\\\\product_all_with_clusters.csv\")\n",
    "\n",
    "# 找出重複的 cluster_id\n",
    "duplicated_clusters = cluster_df[cluster_df['cluster_id'].duplicated(keep=False)]\n",
    "\n",
    "# 印出所有重複的 cluster_id\n",
    "print(len(duplicated_clusters['cluster_id'].unique()))\n",
    "print(duplicated_clusters['cluster_id'].unique())\n"
   ]
  },
  {
   "cell_type": "code",
   "execution_count": 26,
   "metadata": {},
   "outputs": [],
   "source": [
    "duplicated_ids = duplicated_clusters['cluster_id'].unique()\n",
    "with open(\"duplicated_clusters.txt\", \"w\") as f:\n",
    "    for cluster_id in duplicated_ids:\n",
    "        f.write(str(cluster_id) + '\\n')\n",
    "\n"
   ]
  },
  {
   "cell_type": "code",
   "execution_count": 2,
   "metadata": {},
   "outputs": [],
   "source": [
    "import re\n",
    "import pandas as pd\n",
    "\n",
    "# 讀取CSV檔\n",
    "df = pd.read_csv('D:\\AI\\店商推薦\\程式\\自然語言處理商品名稱\\data\\product_all_with_clusters.csv')\n",
    "\n",
    "def check_sale(product_name):\n",
    "    # 檢查各種銷售促銷條件\n",
    "    sale_patterns = [\n",
    "        r'買.*?送',               # 買X送Y模式\n",
    "        r'\\d{1,2}% OFF',          # xx% OFF模式\n",
    "        r'\\d{1,2}% 00F',          # xx% 00F模式\n",
    "        r'打\\d{1,2}折',           # 打X折模式\n",
    "        r'優惠',                  # 優惠\n",
    "        r'加碼贈',                # 加碼贈\n",
    "        r'[Ss]ale'               # Sale或sale\n",
    "    ]\n",
    "\n",
    "    # 如果產品名稱匹配任一模式，則返回1\n",
    "    if any(re.search(pattern, product_name) for pattern in sale_patterns):\n",
    "        return 1\n",
    "    return 0\n",
    "\n",
    "df['SALE'] = df['product_name'].apply(check_sale)\n",
    "\n",
    "\n",
    "# 儲存修改後的CSV檔\n",
    "df.to_csv('D:\\AI\\店商推薦\\程式\\自然語言處理商品名稱\\data\\\\new_product_all.csv', index=False,encoding='utf-8-sig')\n"
   ]
  },
  {
   "cell_type": "code",
   "execution_count": 6,
   "metadata": {},
   "outputs": [],
   "source": [
    "import re\n",
    "import pandas as pd\n",
    "\n",
    "# 讀取CSV檔\n",
    "df = pd.read_csv('D:\\AI\\店商推薦\\程式\\data_processing\\product_data\\product_discount.csv')\n",
    "\n",
    "\n",
    "# 儲存修改後的CSV檔\n",
    "df.to_csv('D:\\AI\\店商推薦\\程式\\data_processing\\product_data\\product_discount.csv', index=False,encoding='utf-8-sig')\n"
   ]
  },
  {
   "cell_type": "code",
   "execution_count": 6,
   "metadata": {},
   "outputs": [],
   "source": [
    "import pandas as pd\n",
    "\n",
    "to_buying = pd.read_csv('D:\\AI\\店商推薦\\程式\\data_processing\\product_data\\\\top_buying.csv')\n",
    "product_all = pd.read_csv('D:\\AI\\店商推薦\\程式\\data_processing\\product_data\\ML\\網頁\\product_all.csv')\n",
    "\n",
    "# 使用merge方法，根據product_id合併兩個DataFrames\n",
    "merged = to_buying.merge(product_all[['product_id', 'product_name']], on='product_id', how='left')\n",
    "\n",
    "# 儲存合併後的DataFrame到新的CSV檔\n",
    "merged.to_csv('D:\\AI\\店商推薦\\程式\\data_processing\\product_data\\ML\\網頁\\\\top_buying.csv', index=False)"
   ]
  },
  {
   "cell_type": "code",
   "execution_count": 4,
   "metadata": {},
   "outputs": [
    {
     "name": "stdout",
     "output_type": "stream",
     "text": [
      "       user_id  product_id  rating\n",
      "6950    256091       26944       1\n",
      "6987    256091       26727       1\n",
      "6988    256091       21828       1\n",
      "6990    256091       30684       1\n",
      "7447    256091       29892       1\n",
      "8115    256091       29720       1\n",
      "8118    256091       30075       1\n",
      "8119    256091       29569       2\n",
      "8121    256091       20101       1\n",
      "65336   256091       26295       2\n",
      "65461   256091       26953       1\n",
      "97807   256091       28453       2\n",
      "97809   256091       24124       1\n"
     ]
    }
   ],
   "source": [
    "import pandas as pd\n",
    "\n",
    "# 讀取你的rating.csv\n",
    "file_path = \"D:/AI/店商推薦/程式/data_processing/product_data/ML/filtered_rating_2 (1).csv\"\n",
    "df = pd.read_csv(file_path)\n",
    "\n",
    "filtered_data = df[df['user_id'] == 256091]\n",
    "\n",
    "print(filtered_data)\n",
    "\n"
   ]
  },
  {
   "cell_type": "code",
   "execution_count": 8,
   "metadata": {},
   "outputs": [
    {
     "name": "stdout",
     "output_type": "stream",
     "text": [
      "       seq_no                                sys_id  product_id  \\\n",
      "14548  534604  19446F4D-3142-4684-896D-F5B22BF12352       30684   \n",
      "\n",
      "                           product_name  \\\n",
      "14548  Hallmark 即期良品 買一送一 清逸香水美白體乳500ml   \n",
      "\n",
      "                                         product_en_name  category_id  \\\n",
      "14548  Immediate Goods Buy One Get One Free Qingyi Pe...           42   \n",
      "\n",
      "      category_name                                        product_url  \\\n",
      "14548            保養  https://www.hawooo.com/user/productdetail.aspx...   \n",
      "\n",
      "                                       product_image_url  \\\n",
      "14548  https://www.hawooo.com/images/webimgs/n2022070...   \n",
      "\n",
      "       product_market_price  product_original_price  product_selling_price  \\\n",
      "14548                 110.0                   920.0                  110.0   \n",
      "\n",
      "       brand_id             brand_name      create_time  product_status  \\\n",
      "14548       318  (Hallmark)新高橋生技股份有限公司  2021/1/21 12:20               0   \n",
      "\n",
      "       data_status insert_time  \n",
      "14548            1     05:52.8  \n"
     ]
    }
   ],
   "source": [
    "import pandas as pd\n",
    "\n",
    "file_path = \"D:\\AI\\店商推薦\\程式\\data_processing\\product_data\\ML\\網頁2\\\\product_all.csv\"\n",
    "df = pd.read_csv(file_path)\n",
    "\n",
    "# 放要找的商品\n",
    "filtered_data = df[df['product_id'] == 30684               ]\n",
    "\n",
    "print(filtered_data)\n",
    "\n"
   ]
  },
  {
   "cell_type": "markdown",
   "metadata": {},
   "source": [
    "找出最貴的top1000\n"
   ]
  },
  {
   "cell_type": "code",
   "execution_count": 2,
   "metadata": {},
   "outputs": [],
   "source": [
    "import pandas as pd\n",
    "\n",
    "df = pd.read_csv('D:\\AI\\店商推薦\\程式\\data_processing\\product_data\\ML\\進azure的資料\\\\product_all.csv')\n",
    "\n",
    "sorted_df = df.sort_values(by='product_market_price', ascending=False)\n",
    "\n",
    "# 取得前1000個價格最高的商品\n",
    "top_1000 = sorted_df.head(1000)\n",
    "\n",
    "# 儲存結果到名為\"高價商品.csv\"的新CSV檔案\n",
    "top_1000.to_csv('D:\\AI\\店商推薦\\程式\\data_processing\\product_data\\ML\\進azure的資料\\\\高價商品.csv', index=False)\n"
   ]
  },
  {
   "cell_type": "code",
   "execution_count": null,
   "metadata": {},
   "outputs": [],
   "source": [
    "import pandas as pd\n",
    "df = pd.read_csv('D:\\AI\\店商推薦\\程式\\data_processing\\product_data\\ML\\進azure的資料\\\\product_all.csv')\n",
    "\n",
    "# 假設你的價格欄位名稱是'Price'\n",
    "sorted_df = df.sort_values(by='product_market_price', ascending=True)  # 注意這裡我們使用ascending=True來排序\n",
    "\n",
    "# 取得前1000個價格最低的商品\n",
    "bottom_1000 = sorted_df.head(1000)\n",
    "\n",
    "# 儲存結果到名為\"低價商品.csv\"的新CSV檔案\n",
    "bottom_1000.to_csv('D:\\AI\\店商推薦\\程式\\data_processing\\product_data\\ML\\進azure的資料\\\\低價商品.csv', index=False)\n"
   ]
  }
 ],
 "metadata": {
  "kernelspec": {
   "display_name": "tf2_torch",
   "language": "python",
   "name": "python3"
  },
  "language_info": {
   "codemirror_mode": {
    "name": "ipython",
    "version": 3
   },
   "file_extension": ".py",
   "mimetype": "text/x-python",
   "name": "python",
   "nbconvert_exporter": "python",
   "pygments_lexer": "ipython3",
   "version": "3.9.16"
  },
  "orig_nbformat": 4
 },
 "nbformat": 4,
 "nbformat_minor": 2
}
